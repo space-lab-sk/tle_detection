{
 "cells": [
  {
   "cell_type": "code",
   "execution_count": null,
   "metadata": {},
   "outputs": [],
   "source": [
    "import pandas as pd\n",
    "import os\n",
    "import json\n",
    "import csv"
   ]
  },
  {
   "cell_type": "code",
   "execution_count": null,
   "metadata": {},
   "outputs": [],
   "source": [
    "data = pd.read_csv(\"../detection-tle-2-classifications.csv\") \n",
    "os.makedirs(\"txt\", exist_ok=True)\n",
    "textFile=os.getcwd()+\"/txt\""
   ]
  },
  {
   "cell_type": "code",
   "execution_count": null,
   "metadata": {},
   "outputs": [],
   "source": [
    "i=0\n",
    "label=0\n",
    "\n",
    "while (i<len(data)):\n",
    "    is_tle=json.loads(data.iloc[i,11])[0][\"value\"]\n",
    "    if is_tle==\"Áno\":\n",
    "        anot=json.loads(data.iloc[i,11])[1][\"value\"]\n",
    "        event=json.loads(data.iloc[i,12])[str(data.iloc[i,13])][\"Filename\"].split(\".\")\n",
    "        count=0\n",
    "        with open(os.path.join(textFile, \"%s.txt\" % (event[0])), mode='w') as csv_file:\n",
    "            \n",
    "            while(count<len(anot)):\n",
    "                                \n",
    "                x=json.loads(data.iloc[i,11])[1][\"value\"][count][\"x\"]\n",
    "                y=json.loads(data.iloc[i,11])[1][\"value\"][count][\"y\"]\n",
    "                width=json.loads(data.iloc[i,11])[1][\"value\"][count][\"width\"]\n",
    "                height=json.loads(data.iloc[i,11])[1][\"value\"][count][\"height\"]\n",
    "                \n",
    "                type_tle=json.loads(data.iloc[i,11])[1][\"value\"][count][\"tool_label\"]\n",
    "                \n",
    "                if(type_tle == 'Mrkva (Carrot sprite)'):\n",
    "                    label=0\n",
    "                elif (type_tle == 'Stĺp (Column sprite)'):\n",
    "                    label=1\n",
    "                elif (type_tle == 'Fontána (Jet, Starter)'):\n",
    "                    label=2\n",
    "                \n",
    "                fieldnames1 = [label,round((x+(width/2))/1280, 5),round((y+(height/2))/960, 5),round(width/1280, 5),round(height/960,5)]\n",
    "                \n",
    "                writer = csv.DictWriter(csv_file,fieldnames=fieldnames1, delimiter=' ')\n",
    "                writer.writeheader()\n",
    "                print(\"Just made normalized txt file for %s\" % (event[0]))\n",
    "                count+=1\n",
    "    i+=1"
   ]
  },
  {
   "cell_type": "code",
   "execution_count": null,
   "metadata": {},
   "outputs": [],
   "source": []
  }
 ],
 "metadata": {
  "kernelspec": {
   "display_name": "Python 3",
   "language": "python",
   "name": "python3"
  },
  "language_info": {
   "codemirror_mode": {
    "name": "ipython",
    "version": 3
   },
   "file_extension": ".py",
   "mimetype": "text/x-python",
   "name": "python",
   "nbconvert_exporter": "python",
   "pygments_lexer": "ipython3",
   "version": "3.8.3"
  }
 },
 "nbformat": 4,
 "nbformat_minor": 4
}
