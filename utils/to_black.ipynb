{
 "cells": [
  {
   "cell_type": "code",
   "execution_count": null,
   "metadata": {},
   "outputs": [],
   "source": [
    "import os\n",
    "from PIL import Image, ImageDraw"
   ]
  },
  {
   "cell_type": "code",
   "execution_count": null,
   "metadata": {},
   "outputs": [],
   "source": [
    "x=0.161719\n",
    "y=0.0557292\n",
    "w=0.034375\n",
    "h=0.046875\n",
    "a=(x-(w/2))*1280\n",
    "b=(y-(h/2))*960\n",
    "c=(x+(w/2))*1280\n",
    "d=(y+(h/2))*960\n",
    "print(a,b,c,d)"
   ]
  },
  {
   "cell_type": "code",
   "execution_count": null,
   "metadata": {},
   "outputs": [],
   "source": [
    "rootPath = r'../sample/img'\n",
    "for root, dirs, files in os.walk(rootPath):\n",
    "    for file in files:\n",
    "        name = os.path.splitext(file)[0]\n",
    "        extension = os.path.splitext(file)[1]\n",
    "        if name[-5:] == \"VAZEC\":\n",
    "            im = Image.open(os.path.join(root, \"%s\" % (file)))\n",
    "            im1 = ImageDraw.Draw(im)\n",
    "            im1.rectangle([(95.00006400000001, 221.000016), (136.0, 264.999984)], outline=\"black\",fill=\"black\")\n",
    "            im1.rectangle([(246.0, 884.999664), (370.0, 954.999696)], outline=\"black\",fill=\"black\")\n",
    "            im.save(os.path.join(rootPath, \"%s\" % (file)))\n",
    "        if name[-3:] == \"AGO\":\n",
    "            im = Image.open(os.path.join(root, \"%s\" % (file)))\n",
    "            im1 = ImageDraw.Draw(im)\n",
    "            im1.rectangle([(1077.000448, 513.000144), (1140.000512, 580.0001759999999)], outline=\"black\",fill=\"black\")\n",
    "            im.save(os.path.join(rootPath, \"%s\" % (file)))\n",
    "        if name[-5:] == \"Senec\":\n",
    "            im = Image.open(os.path.join(root, \"%s\" % (file)))\n",
    "            im1 = ImageDraw.Draw(im)\n",
    "            im1.rectangle([(1127.9994880000002, 737.00016), (1182.999552, 800.00016)], outline=\"black\",fill=\"black\")\n",
    "            im.save(os.path.join(rootPath, \"%s\" % (file)))\n",
    "        if name[-3:] == \"KNM\":\n",
    "            im = Image.open(os.path.join(root, \"%s\" % (file)))\n",
    "            im1 = ImageDraw.Draw(im)\n",
    "            im1.rectangle([(143.00051200000001, 0.0), (194.000448, 39.0)], outline=\"black\",fill=\"black\")\n",
    "            im.save(os.path.join(rootPath, \"%s\" % (file)))\n",
    "        if name[-4:] == \"ARBO\":\n",
    "            im = Image.open(os.path.join(root, \"%s\" % (file)))\n",
    "            im1 = ImageDraw.Draw(im)\n",
    "            im1.rectangle([(299.99935999999997, 883.0004640000001), (359.99935999999997, 938.000496)], outline=\"black\",fill=\"black\")\n",
    "            im.save(os.path.join(rootPath, \"%s\" % (file)))"
   ]
  }
 ],
 "metadata": {
  "kernelspec": {
   "display_name": "Python 3",
   "language": "python",
   "name": "python3"
  },
  "language_info": {
   "codemirror_mode": {
    "name": "ipython",
    "version": 3
   },
   "file_extension": ".py",
   "mimetype": "text/x-python",
   "name": "python",
   "nbconvert_exporter": "python",
   "pygments_lexer": "ipython3",
   "version": "3.8.3"
  }
 },
 "nbformat": 4,
 "nbformat_minor": 4
}
